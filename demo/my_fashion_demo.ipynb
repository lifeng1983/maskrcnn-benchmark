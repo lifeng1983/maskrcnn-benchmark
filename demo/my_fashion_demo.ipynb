{
 "cells": [
  {
   "cell_type": "code",
   "execution_count": null,
   "metadata": {},
   "outputs": [],
   "source": [
    "py_path = !which python\n",
    "py_version = !python --version\n",
    "print(\"Python: version {} under {}\".format(py_version, py_path))\n",
    "\n",
    "import torch\n",
    "print(\"PyTorch: version {}\".format([torch.__version__]))"
   ]
  },
  {
   "cell_type": "code",
   "execution_count": null,
   "metadata": {
    "collapsed": true
   },
   "outputs": [],
   "source": [
    "from torch.utils.cpp_extension import CUDA_HOME\n",
    "from torch.utils.cpp_extension import CppExtension\n",
    "from torch.utils.cpp_extension import CUDAExtension\n",
    "\n",
    "#print(CUDA_HOME)\n",
    "#print(CppExtension)\n",
    "#print( dir(CUDAExtension) )\n",
    "\n",
    "#import setuptools\n",
    "#dir(setuptools)"
   ]
  },
  {
   "cell_type": "code",
   "execution_count": null,
   "metadata": {
    "collapsed": true
   },
   "outputs": [],
   "source": [
    "import matplotlib.pyplot as plt\n",
    "import matplotlib.pylab as pylab\n",
    "import numpy as np\n",
    "\n",
    "import requests\n",
    "from io import BytesIO\n",
    "from PIL import Image\n",
    "from time import perf_counter"
   ]
  },
  {
   "cell_type": "code",
   "execution_count": null,
   "metadata": {
    "collapsed": true
   },
   "outputs": [],
   "source": [
    "def load(url):\n",
    "    response = requests.get(url)\n",
    "    pil_image = Image.open(BytesIO(response.content)).convert(\"RGB\")\n",
    "    # convert to BGR format\n",
    "    image = np.array(pil_image)[:, :, [2, 1, 0]]\n",
    "    return image\n",
    "\n",
    "def imshow(img):\n",
    "    pylab.rcParams['figure.figsize'] = 20, 12\n",
    "    plt.imshow(img[:, :, [2, 1, 0]])\n",
    "    #plt.axis(\"off\")"
   ]
  },
  {
   "cell_type": "code",
   "execution_count": null,
   "metadata": {},
   "outputs": [],
   "source": [
    "from maskrcnn_benchmark.config import cfg\n",
    "\n",
    "config_file = \"/home/fenli/my_code/maskrcnn-benchmark/configs/myexp.yaml\"\n",
    "cfg.merge_from_file(config_file)\n",
    "\n",
    "GpuIdToUse = None\n",
    "#GpuIdToUse = \"0,1\"\n",
    "\n",
    "if GpuIdToUse is not None:\n",
    "    import os\n",
    "    os.environ['CUDA_VISIBLE_DEVICES'] = GpuIdToUse\n",
    "    print (\"using gpu\")\n",
    "    cfg.merge_from_list([\"MODEL.DEVICE\", \"cuda\"])\n",
    "else:\n",
    "    print (\"using cpu\")\n",
    "    cfg.merge_from_list([\"MODEL.DEVICE\", \"cpu\"])\n",
    "\n",
    "    \n",
    "cfg.merge_from_list([\"MODEL.WEIGHT\", \"/home/fenli/my_model/fashion_category_attr/model_FasterRCnn_R50FPN_iter80000.pth\"])"
   ]
  },
  {
   "cell_type": "code",
   "execution_count": null,
   "metadata": {},
   "outputs": [],
   "source": [
    "from mypredictor import MyDemo\n",
    "\n",
    "start_time = perf_counter()\n",
    "my_demo = MyDemo(\n",
    "    cfg,\n",
    "    min_image_size=800,\n",
    "    confidence_threshold=0.1,\n",
    ")\n",
    "elapsed_time = perf_counter() - start_time\n",
    "print(\"PERF: Model loaded in {:.0f} ms\".format(elapsed_time*1000))\n",
    "\n",
    "print(cfg)"
   ]
  },
  {
   "cell_type": "code",
   "execution_count": null,
   "metadata": {},
   "outputs": [],
   "source": [
    "#model = my_demo.get_model()\n",
    "#torch.save(model, \"/home/fenli/my_model/fashion_category_attr/saved_model.pth\")\n",
    "\n",
    "model = torch.load(\"/home/fenli/my_model/fashion_category_attr/saved_model.pth\")\n",
    "my_demo.set_model(model)\n",
    "print(model)"
   ]
  },
  {
   "cell_type": "code",
   "execution_count": null,
   "metadata": {},
   "outputs": [],
   "source": [
    "image = load(\n",
    "#    \"https://cdn.cliqueinc.com/cache/posts/245509/japanese-street-style-245509-1513874225144-image.700x0c.jpg\"\n",
    "#    \"https://static01.nyt.com/images/2019/02/27/fashion/weddings/27doozy1/27doozy1-superJumbo-v2.jpg\"\n",
    "#    \"https://hips.hearstapps.com/hmg-prod.s3.amazonaws.com/images/hbz-street-style-ss2019-nyfw-day4-12-1536604387.jpg\"\n",
    "#    \"https://assets.vogue.com/photos/591daa7caf3eb104a5ac3ac5/master/pass/15-sydney-resort-18-day-5.jpg\"\n",
    "#    \"https://hips.hearstapps.com/hmg-prod.s3.amazonaws.com/images/milan-mfw-street-style-ss18-day-4-tyler-joe-023-1506598430.jpg\"\n",
    "#     \"https://hips.hearstapps.com/hmg-prod.s3.amazonaws.com/images/hbz-street-style-copenhagen-day3-06-1502740501.jpg\" # 3\n",
    "#    \"https://media.gq.com/photos/5894caecfa95131655778571/master/pass/0202-dan-roberts-street-style-NYMFW-FW17-30.jpg\"\n",
    "    \"https://timedotcom.files.wordpress.com/2018/09/neon-brights-street-style.jpg\"\n",
    "#    \"https://s3-eu-west-2.amazonaws.com/pausemagbucket/wp-content/uploads/2018/03/PARIS-A_W-18_19-D5_0122-copy-1024x683.jpg\"\n",
    "#    \"https://uproxx.files.wordpress.com/2018/10/tokyo-fashion-week-street-style-feat.jpg\"\n",
    ")\n",
    "imshow(image)"
   ]
  },
  {
   "cell_type": "code",
   "execution_count": null,
   "metadata": {},
   "outputs": [],
   "source": [
    "start_time = perf_counter()\n",
    "predictions = my_demo.run_on_opencv_image(image, 0.2)\n",
    "elapsed_time = perf_counter() - start_time\n",
    "print(\"PERF: Model executed in {:.0f} ms\".format(elapsed_time*1000))\n",
    "imshow(predictions)\n"
   ]
  },
  {
   "cell_type": "code",
   "execution_count": null,
   "metadata": {
    "collapsed": true
   },
   "outputs": [],
   "source": []
  }
 ],
 "metadata": {
  "kernelspec": {
   "display_name": "Python 3(maskrcnn_b2)",
   "language": "python",
   "name": "maskrcnn_b2"
  },
  "language_info": {
   "codemirror_mode": {
    "name": "ipython",
    "version": 3
   },
   "file_extension": ".py",
   "mimetype": "text/x-python",
   "name": "python",
   "nbconvert_exporter": "python",
   "pygments_lexer": "ipython3",
   "version": "3.7.2"
  }
 },
 "nbformat": 4,
 "nbformat_minor": 2
}
